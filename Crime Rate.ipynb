{
 "cells": [
  {
   "cell_type": "markdown",
   "metadata": {},
   "source": [
    "# Chicago Crime Rate\n",
    "\n"
   ]
  },
  {
   "cell_type": "code",
   "execution_count": 1,
   "metadata": {},
   "outputs": [],
   "source": [
    "import pandas as pd\n",
    "import numpy as np"
   ]
  },
  {
   "cell_type": "code",
   "execution_count": 2,
   "metadata": {},
   "outputs": [],
   "source": [
    "import matplotlib.pyplot as plt\n",
    "import seaborn as sns\n",
    "sns.set_style('whitegrid')"
   ]
  },
  {
   "cell_type": "code",
   "execution_count": 3,
   "metadata": {},
   "outputs": [],
   "source": [
    "%matplotlib inline"
   ]
  },
  {
   "cell_type": "code",
   "execution_count": 4,
   "metadata": {},
   "outputs": [],
   "source": [
    "df = pd.read_csv('chicago_crime_rate.csv')"
   ]
  },
  {
   "cell_type": "code",
   "execution_count": 5,
   "metadata": {},
   "outputs": [
    {
     "name": "stdout",
     "output_type": "stream",
     "text": [
      "<class 'pandas.core.frame.DataFrame'>\n",
      "RangeIndex: 1456714 entries, 0 to 1456713\n",
      "Data columns (total 23 columns):\n",
      " #   Column                Non-Null Count    Dtype  \n",
      "---  ------                --------------    -----  \n",
      " 0   Unnamed: 0            1456714 non-null  int64  \n",
      " 1   ID                    1456714 non-null  int64  \n",
      " 2   Case Number           1456713 non-null  object \n",
      " 3   Date                  1456714 non-null  object \n",
      " 4   Block                 1456714 non-null  object \n",
      " 5   IUCR                  1456714 non-null  object \n",
      " 6   Primary Type          1456714 non-null  object \n",
      " 7   Description           1456714 non-null  object \n",
      " 8   Location Description  1455056 non-null  object \n",
      " 9   Arrest                1456714 non-null  bool   \n",
      " 10  Domestic              1456714 non-null  bool   \n",
      " 11  Beat                  1456714 non-null  int64  \n",
      " 12  District              1456713 non-null  float64\n",
      " 13  Ward                  1456700 non-null  float64\n",
      " 14  Community Area        1456674 non-null  float64\n",
      " 15  FBI Code              1456714 non-null  object \n",
      " 16  X Coordinate          1419631 non-null  float64\n",
      " 17  Y Coordinate          1419631 non-null  float64\n",
      " 18  Year                  1456714 non-null  int64  \n",
      " 19  Updated On            1456714 non-null  object \n",
      " 20  Latitude              1419631 non-null  float64\n",
      " 21  Longitude             1419631 non-null  float64\n",
      " 22  Location              1419631 non-null  object \n",
      "dtypes: bool(2), float64(7), int64(4), object(10)\n",
      "memory usage: 236.2+ MB\n"
     ]
    }
   ],
   "source": [
    "df.info()"
   ]
  },
  {
   "cell_type": "code",
   "execution_count": 6,
   "metadata": {},
   "outputs": [
    {
     "data": {
      "text/html": [
       "<div>\n",
       "<style scoped>\n",
       "    .dataframe tbody tr th:only-of-type {\n",
       "        vertical-align: middle;\n",
       "    }\n",
       "\n",
       "    .dataframe tbody tr th {\n",
       "        vertical-align: top;\n",
       "    }\n",
       "\n",
       "    .dataframe thead th {\n",
       "        text-align: right;\n",
       "    }\n",
       "</style>\n",
       "<table border=\"1\" class=\"dataframe\">\n",
       "  <thead>\n",
       "    <tr style=\"text-align: right;\">\n",
       "      <th></th>\n",
       "      <th>Unnamed: 0</th>\n",
       "      <th>ID</th>\n",
       "      <th>Beat</th>\n",
       "      <th>District</th>\n",
       "      <th>Ward</th>\n",
       "      <th>Community Area</th>\n",
       "      <th>X Coordinate</th>\n",
       "      <th>Y Coordinate</th>\n",
       "      <th>Year</th>\n",
       "      <th>Latitude</th>\n",
       "      <th>Longitude</th>\n",
       "    </tr>\n",
       "  </thead>\n",
       "  <tbody>\n",
       "    <tr>\n",
       "      <th>count</th>\n",
       "      <td>1.456714e+06</td>\n",
       "      <td>1.456714e+06</td>\n",
       "      <td>1.456714e+06</td>\n",
       "      <td>1.456713e+06</td>\n",
       "      <td>1.456700e+06</td>\n",
       "      <td>1.456674e+06</td>\n",
       "      <td>1.419631e+06</td>\n",
       "      <td>1.419631e+06</td>\n",
       "      <td>1.456714e+06</td>\n",
       "      <td>1.419631e+06</td>\n",
       "      <td>1.419631e+06</td>\n",
       "    </tr>\n",
       "    <tr>\n",
       "      <th>mean</th>\n",
       "      <td>3.308606e+06</td>\n",
       "      <td>9.597550e+06</td>\n",
       "      <td>1.150644e+03</td>\n",
       "      <td>1.125920e+01</td>\n",
       "      <td>2.287027e+01</td>\n",
       "      <td>3.745632e+01</td>\n",
       "      <td>1.164398e+06</td>\n",
       "      <td>1.885523e+06</td>\n",
       "      <td>2.013897e+03</td>\n",
       "      <td>4.184147e+01</td>\n",
       "      <td>-8.767224e+01</td>\n",
       "    </tr>\n",
       "    <tr>\n",
       "      <th>std</th>\n",
       "      <td>1.235350e+06</td>\n",
       "      <td>8.083505e+05</td>\n",
       "      <td>6.916466e+02</td>\n",
       "      <td>6.904691e+00</td>\n",
       "      <td>1.380589e+01</td>\n",
       "      <td>2.144029e+01</td>\n",
       "      <td>1.850835e+04</td>\n",
       "      <td>3.424775e+04</td>\n",
       "      <td>1.449584e+00</td>\n",
       "      <td>9.430126e-02</td>\n",
       "      <td>6.661726e-02</td>\n",
       "    </tr>\n",
       "    <tr>\n",
       "      <th>min</th>\n",
       "      <td>3.000000e+00</td>\n",
       "      <td>2.022400e+04</td>\n",
       "      <td>1.110000e+02</td>\n",
       "      <td>1.000000e+00</td>\n",
       "      <td>1.000000e+00</td>\n",
       "      <td>0.000000e+00</td>\n",
       "      <td>0.000000e+00</td>\n",
       "      <td>0.000000e+00</td>\n",
       "      <td>2.012000e+03</td>\n",
       "      <td>3.661945e+01</td>\n",
       "      <td>-9.168657e+01</td>\n",
       "    </tr>\n",
       "    <tr>\n",
       "      <th>25%</th>\n",
       "      <td>2.698636e+06</td>\n",
       "      <td>9.002709e+06</td>\n",
       "      <td>6.130000e+02</td>\n",
       "      <td>6.000000e+00</td>\n",
       "      <td>1.000000e+01</td>\n",
       "      <td>2.300000e+01</td>\n",
       "      <td>1.152544e+06</td>\n",
       "      <td>1.858762e+06</td>\n",
       "      <td>2.013000e+03</td>\n",
       "      <td>4.176787e+01</td>\n",
       "      <td>-8.771528e+01</td>\n",
       "    </tr>\n",
       "    <tr>\n",
       "      <th>50%</th>\n",
       "      <td>3.063654e+06</td>\n",
       "      <td>9.605776e+06</td>\n",
       "      <td>1.024000e+03</td>\n",
       "      <td>1.000000e+01</td>\n",
       "      <td>2.300000e+01</td>\n",
       "      <td>3.200000e+01</td>\n",
       "      <td>1.166021e+06</td>\n",
       "      <td>1.891502e+06</td>\n",
       "      <td>2.014000e+03</td>\n",
       "      <td>4.185797e+01</td>\n",
       "      <td>-8.766613e+01</td>\n",
       "    </tr>\n",
       "    <tr>\n",
       "      <th>75%</th>\n",
       "      <td>3.428849e+06</td>\n",
       "      <td>1.022577e+07</td>\n",
       "      <td>1.711000e+03</td>\n",
       "      <td>1.700000e+01</td>\n",
       "      <td>3.400000e+01</td>\n",
       "      <td>5.600000e+01</td>\n",
       "      <td>1.176363e+06</td>\n",
       "      <td>1.908713e+06</td>\n",
       "      <td>2.015000e+03</td>\n",
       "      <td>4.190529e+01</td>\n",
       "      <td>-8.762813e+01</td>\n",
       "    </tr>\n",
       "    <tr>\n",
       "      <th>max</th>\n",
       "      <td>6.253474e+06</td>\n",
       "      <td>1.082788e+07</td>\n",
       "      <td>2.535000e+03</td>\n",
       "      <td>3.100000e+01</td>\n",
       "      <td>5.000000e+01</td>\n",
       "      <td>7.700000e+01</td>\n",
       "      <td>1.205119e+06</td>\n",
       "      <td>1.951573e+06</td>\n",
       "      <td>2.017000e+03</td>\n",
       "      <td>4.202271e+01</td>\n",
       "      <td>-8.752453e+01</td>\n",
       "    </tr>\n",
       "  </tbody>\n",
       "</table>\n",
       "</div>"
      ],
      "text/plain": [
       "         Unnamed: 0            ID          Beat      District          Ward  \\\n",
       "count  1.456714e+06  1.456714e+06  1.456714e+06  1.456713e+06  1.456700e+06   \n",
       "mean   3.308606e+06  9.597550e+06  1.150644e+03  1.125920e+01  2.287027e+01   \n",
       "std    1.235350e+06  8.083505e+05  6.916466e+02  6.904691e+00  1.380589e+01   \n",
       "min    3.000000e+00  2.022400e+04  1.110000e+02  1.000000e+00  1.000000e+00   \n",
       "25%    2.698636e+06  9.002709e+06  6.130000e+02  6.000000e+00  1.000000e+01   \n",
       "50%    3.063654e+06  9.605776e+06  1.024000e+03  1.000000e+01  2.300000e+01   \n",
       "75%    3.428849e+06  1.022577e+07  1.711000e+03  1.700000e+01  3.400000e+01   \n",
       "max    6.253474e+06  1.082788e+07  2.535000e+03  3.100000e+01  5.000000e+01   \n",
       "\n",
       "       Community Area  X Coordinate  Y Coordinate          Year      Latitude  \\\n",
       "count    1.456674e+06  1.419631e+06  1.419631e+06  1.456714e+06  1.419631e+06   \n",
       "mean     3.745632e+01  1.164398e+06  1.885523e+06  2.013897e+03  4.184147e+01   \n",
       "std      2.144029e+01  1.850835e+04  3.424775e+04  1.449584e+00  9.430126e-02   \n",
       "min      0.000000e+00  0.000000e+00  0.000000e+00  2.012000e+03  3.661945e+01   \n",
       "25%      2.300000e+01  1.152544e+06  1.858762e+06  2.013000e+03  4.176787e+01   \n",
       "50%      3.200000e+01  1.166021e+06  1.891502e+06  2.014000e+03  4.185797e+01   \n",
       "75%      5.600000e+01  1.176363e+06  1.908713e+06  2.015000e+03  4.190529e+01   \n",
       "max      7.700000e+01  1.205119e+06  1.951573e+06  2.017000e+03  4.202271e+01   \n",
       "\n",
       "          Longitude  \n",
       "count  1.419631e+06  \n",
       "mean  -8.767224e+01  \n",
       "std    6.661726e-02  \n",
       "min   -9.168657e+01  \n",
       "25%   -8.771528e+01  \n",
       "50%   -8.766613e+01  \n",
       "75%   -8.762813e+01  \n",
       "max   -8.752453e+01  "
      ]
     },
     "execution_count": 6,
     "metadata": {},
     "output_type": "execute_result"
    }
   ],
   "source": [
    "df.describe()"
   ]
  },
  {
   "cell_type": "code",
   "execution_count": 7,
   "metadata": {},
   "outputs": [
    {
     "data": {
      "text/html": [
       "<div>\n",
       "<style scoped>\n",
       "    .dataframe tbody tr th:only-of-type {\n",
       "        vertical-align: middle;\n",
       "    }\n",
       "\n",
       "    .dataframe tbody tr th {\n",
       "        vertical-align: top;\n",
       "    }\n",
       "\n",
       "    .dataframe thead th {\n",
       "        text-align: right;\n",
       "    }\n",
       "</style>\n",
       "<table border=\"1\" class=\"dataframe\">\n",
       "  <thead>\n",
       "    <tr style=\"text-align: right;\">\n",
       "      <th></th>\n",
       "      <th>Unnamed: 0</th>\n",
       "      <th>ID</th>\n",
       "      <th>Case Number</th>\n",
       "      <th>Date</th>\n",
       "      <th>Block</th>\n",
       "      <th>IUCR</th>\n",
       "      <th>Primary Type</th>\n",
       "      <th>Description</th>\n",
       "      <th>Location Description</th>\n",
       "      <th>Arrest</th>\n",
       "      <th>...</th>\n",
       "      <th>Ward</th>\n",
       "      <th>Community Area</th>\n",
       "      <th>FBI Code</th>\n",
       "      <th>X Coordinate</th>\n",
       "      <th>Y Coordinate</th>\n",
       "      <th>Year</th>\n",
       "      <th>Updated On</th>\n",
       "      <th>Latitude</th>\n",
       "      <th>Longitude</th>\n",
       "      <th>Location</th>\n",
       "    </tr>\n",
       "  </thead>\n",
       "  <tbody>\n",
       "    <tr>\n",
       "      <th>0</th>\n",
       "      <td>3</td>\n",
       "      <td>10508693</td>\n",
       "      <td>HZ250496</td>\n",
       "      <td>05/03/2016 11:40:00 PM</td>\n",
       "      <td>013XX S SAWYER AVE</td>\n",
       "      <td>0486</td>\n",
       "      <td>BATTERY</td>\n",
       "      <td>DOMESTIC BATTERY SIMPLE</td>\n",
       "      <td>APARTMENT</td>\n",
       "      <td>True</td>\n",
       "      <td>...</td>\n",
       "      <td>24.0</td>\n",
       "      <td>29.0</td>\n",
       "      <td>08B</td>\n",
       "      <td>1154907.0</td>\n",
       "      <td>1893681.0</td>\n",
       "      <td>2016</td>\n",
       "      <td>05/10/2016 03:56:50 PM</td>\n",
       "      <td>41.864073</td>\n",
       "      <td>-87.706819</td>\n",
       "      <td>(41.864073157, -87.706818608)</td>\n",
       "    </tr>\n",
       "    <tr>\n",
       "      <th>1</th>\n",
       "      <td>89</td>\n",
       "      <td>10508695</td>\n",
       "      <td>HZ250409</td>\n",
       "      <td>05/03/2016 09:40:00 PM</td>\n",
       "      <td>061XX S DREXEL AVE</td>\n",
       "      <td>0486</td>\n",
       "      <td>BATTERY</td>\n",
       "      <td>DOMESTIC BATTERY SIMPLE</td>\n",
       "      <td>RESIDENCE</td>\n",
       "      <td>False</td>\n",
       "      <td>...</td>\n",
       "      <td>20.0</td>\n",
       "      <td>42.0</td>\n",
       "      <td>08B</td>\n",
       "      <td>1183066.0</td>\n",
       "      <td>1864330.0</td>\n",
       "      <td>2016</td>\n",
       "      <td>05/10/2016 03:56:50 PM</td>\n",
       "      <td>41.782922</td>\n",
       "      <td>-87.604363</td>\n",
       "      <td>(41.782921527, -87.60436317)</td>\n",
       "    </tr>\n",
       "    <tr>\n",
       "      <th>2</th>\n",
       "      <td>197</td>\n",
       "      <td>10508697</td>\n",
       "      <td>HZ250503</td>\n",
       "      <td>05/03/2016 11:31:00 PM</td>\n",
       "      <td>053XX W CHICAGO AVE</td>\n",
       "      <td>0470</td>\n",
       "      <td>PUBLIC PEACE VIOLATION</td>\n",
       "      <td>RECKLESS CONDUCT</td>\n",
       "      <td>STREET</td>\n",
       "      <td>False</td>\n",
       "      <td>...</td>\n",
       "      <td>37.0</td>\n",
       "      <td>25.0</td>\n",
       "      <td>24</td>\n",
       "      <td>1140789.0</td>\n",
       "      <td>1904819.0</td>\n",
       "      <td>2016</td>\n",
       "      <td>05/10/2016 03:56:50 PM</td>\n",
       "      <td>41.894908</td>\n",
       "      <td>-87.758372</td>\n",
       "      <td>(41.894908283, -87.758371958)</td>\n",
       "    </tr>\n",
       "    <tr>\n",
       "      <th>3</th>\n",
       "      <td>673</td>\n",
       "      <td>10508698</td>\n",
       "      <td>HZ250424</td>\n",
       "      <td>05/03/2016 10:10:00 PM</td>\n",
       "      <td>049XX W FULTON ST</td>\n",
       "      <td>0460</td>\n",
       "      <td>BATTERY</td>\n",
       "      <td>SIMPLE</td>\n",
       "      <td>SIDEWALK</td>\n",
       "      <td>False</td>\n",
       "      <td>...</td>\n",
       "      <td>28.0</td>\n",
       "      <td>25.0</td>\n",
       "      <td>08B</td>\n",
       "      <td>1143223.0</td>\n",
       "      <td>1901475.0</td>\n",
       "      <td>2016</td>\n",
       "      <td>05/10/2016 03:56:50 PM</td>\n",
       "      <td>41.885687</td>\n",
       "      <td>-87.749516</td>\n",
       "      <td>(41.885686845, -87.749515983)</td>\n",
       "    </tr>\n",
       "    <tr>\n",
       "      <th>4</th>\n",
       "      <td>911</td>\n",
       "      <td>10508699</td>\n",
       "      <td>HZ250455</td>\n",
       "      <td>05/03/2016 10:00:00 PM</td>\n",
       "      <td>003XX N LOTUS AVE</td>\n",
       "      <td>0820</td>\n",
       "      <td>THEFT</td>\n",
       "      <td>$500 AND UNDER</td>\n",
       "      <td>RESIDENCE</td>\n",
       "      <td>False</td>\n",
       "      <td>...</td>\n",
       "      <td>28.0</td>\n",
       "      <td>25.0</td>\n",
       "      <td>06</td>\n",
       "      <td>1139890.0</td>\n",
       "      <td>1901675.0</td>\n",
       "      <td>2016</td>\n",
       "      <td>05/10/2016 03:56:50 PM</td>\n",
       "      <td>41.886297</td>\n",
       "      <td>-87.761751</td>\n",
       "      <td>(41.886297242, -87.761750709)</td>\n",
       "    </tr>\n",
       "  </tbody>\n",
       "</table>\n",
       "<p>5 rows × 23 columns</p>\n",
       "</div>"
      ],
      "text/plain": [
       "   Unnamed: 0        ID Case Number                    Date  \\\n",
       "0           3  10508693    HZ250496  05/03/2016 11:40:00 PM   \n",
       "1          89  10508695    HZ250409  05/03/2016 09:40:00 PM   \n",
       "2         197  10508697    HZ250503  05/03/2016 11:31:00 PM   \n",
       "3         673  10508698    HZ250424  05/03/2016 10:10:00 PM   \n",
       "4         911  10508699    HZ250455  05/03/2016 10:00:00 PM   \n",
       "\n",
       "                 Block  IUCR            Primary Type              Description  \\\n",
       "0   013XX S SAWYER AVE  0486                 BATTERY  DOMESTIC BATTERY SIMPLE   \n",
       "1   061XX S DREXEL AVE  0486                 BATTERY  DOMESTIC BATTERY SIMPLE   \n",
       "2  053XX W CHICAGO AVE  0470  PUBLIC PEACE VIOLATION         RECKLESS CONDUCT   \n",
       "3    049XX W FULTON ST  0460                 BATTERY                   SIMPLE   \n",
       "4    003XX N LOTUS AVE  0820                   THEFT           $500 AND UNDER   \n",
       "\n",
       "  Location Description  Arrest  ...  Ward  Community Area  FBI Code  \\\n",
       "0            APARTMENT    True  ...  24.0            29.0       08B   \n",
       "1            RESIDENCE   False  ...  20.0            42.0       08B   \n",
       "2               STREET   False  ...  37.0            25.0        24   \n",
       "3             SIDEWALK   False  ...  28.0            25.0       08B   \n",
       "4            RESIDENCE   False  ...  28.0            25.0        06   \n",
       "\n",
       "   X Coordinate  Y Coordinate  Year              Updated On   Latitude  \\\n",
       "0     1154907.0     1893681.0  2016  05/10/2016 03:56:50 PM  41.864073   \n",
       "1     1183066.0     1864330.0  2016  05/10/2016 03:56:50 PM  41.782922   \n",
       "2     1140789.0     1904819.0  2016  05/10/2016 03:56:50 PM  41.894908   \n",
       "3     1143223.0     1901475.0  2016  05/10/2016 03:56:50 PM  41.885687   \n",
       "4     1139890.0     1901675.0  2016  05/10/2016 03:56:50 PM  41.886297   \n",
       "\n",
       "   Longitude                       Location  \n",
       "0 -87.706819  (41.864073157, -87.706818608)  \n",
       "1 -87.604363   (41.782921527, -87.60436317)  \n",
       "2 -87.758372  (41.894908283, -87.758371958)  \n",
       "3 -87.749516  (41.885686845, -87.749515983)  \n",
       "4 -87.761751  (41.886297242, -87.761750709)  \n",
       "\n",
       "[5 rows x 23 columns]"
      ]
     },
     "execution_count": 7,
     "metadata": {},
     "output_type": "execute_result"
    }
   ],
   "source": [
    "df.head()"
   ]
  },
  {
   "cell_type": "code",
   "execution_count": null,
   "metadata": {},
   "outputs": [],
   "source": []
  },
  {
   "cell_type": "code",
   "execution_count": 8,
   "metadata": {},
   "outputs": [],
   "source": [
    "df['date_col'] = pd.to_datetime(df['Date'])"
   ]
  },
  {
   "cell_type": "code",
   "execution_count": 9,
   "metadata": {},
   "outputs": [
    {
     "data": {
      "text/plain": [
       "Index(['Unnamed: 0', 'ID', 'Case Number', 'Date', 'Block', 'IUCR',\n",
       "       'Primary Type', 'Description', 'Location Description', 'Arrest',\n",
       "       'Domestic', 'Beat', 'District', 'Ward', 'Community Area', 'FBI Code',\n",
       "       'X Coordinate', 'Y Coordinate', 'Year', 'Updated On', 'Latitude',\n",
       "       'Longitude', 'Location', 'date_col'],\n",
       "      dtype='object')"
      ]
     },
     "execution_count": 9,
     "metadata": {},
     "output_type": "execute_result"
    }
   ],
   "source": [
    "df.columns"
   ]
  },
  {
   "cell_type": "code",
   "execution_count": 10,
   "metadata": {},
   "outputs": [
    {
     "data": {
      "text/plain": [
       "0   2016-05-03 23:40:00\n",
       "Name: date_col, dtype: datetime64[ns]"
      ]
     },
     "execution_count": 10,
     "metadata": {},
     "output_type": "execute_result"
    }
   ],
   "source": [
    "df.loc[:0,'date_col']"
   ]
  },
  {
   "cell_type": "code",
   "execution_count": null,
   "metadata": {},
   "outputs": [],
   "source": []
  },
  {
   "cell_type": "code",
   "execution_count": 11,
   "metadata": {},
   "outputs": [
    {
     "data": {
      "text/plain": [
       "2016"
      ]
     },
     "execution_count": 11,
     "metadata": {},
     "output_type": "execute_result"
    }
   ],
   "source": [
    "time = df['date_col'].iloc[0]\n",
    "time.year"
   ]
  },
  {
   "cell_type": "code",
   "execution_count": null,
   "metadata": {},
   "outputs": [],
   "source": []
  },
  {
   "cell_type": "markdown",
   "metadata": {},
   "source": [
    "## Arrest Ratio"
   ]
  },
  {
   "cell_type": "code",
   "execution_count": 12,
   "metadata": {},
   "outputs": [
    {
     "data": {
      "text/plain": [
       "<matplotlib.axes._subplots.AxesSubplot at 0x35aeab38>"
      ]
     },
     "execution_count": 12,
     "metadata": {},
     "output_type": "execute_result"
    },
    {
     "data": {
      "image/png": "[encoded data removed]",
      "text/plain": [
       "<Figure size 432x288 with 1 Axes>"
      ]
     },
     "metadata": {
      "needs_background": "light"
     },
     "output_type": "display_data"
    }
   ],
   "source": [
    "sns.countplot(x='Arrest', data=df)"
   ]
  },
  {
   "cell_type": "markdown",
   "metadata": {},
   "source": [
    "*Its clear that in most of the case culprit didn't caught*\n",
    "____"
   ]
  },
  {
   "cell_type": "markdown",
   "metadata": {},
   "source": [
    "## Crime Rate Per Year"
   ]
  },
  {
   "cell_type": "code",
   "execution_count": 13,
   "metadata": {},
   "outputs": [
    {
     "data": {
      "text/plain": [
       "2012    335670\n",
       "2013    306703\n",
       "2014    274527\n",
       "2016    265462\n",
       "2015    262995\n",
       "2017     11357\n",
       "Name: Year, dtype: int64"
      ]
     },
     "execution_count": 13,
     "metadata": {},
     "output_type": "execute_result"
    }
   ],
   "source": [
    "df['Year'].value_counts()"
   ]
  },
  {
   "cell_type": "code",
   "execution_count": 14,
   "metadata": {},
   "outputs": [
    {
     "data": {
      "text/plain": [
       "<matplotlib.axes._subplots.AxesSubplot at 0x5408cf8>"
      ]
     },
     "execution_count": 14,
     "metadata": {},
     "output_type": "execute_result"
    },
    {
     "data": {
      "image/png": "[encoded data removed]",
      "text/plain": [
       "<Figure size 432x288 with 1 Axes>"
      ]
     },
     "metadata": {
      "needs_background": "light"
     },
     "output_type": "display_data"
    }
   ],
   "source": [
    "sns.countplot(df['Year'])"
   ]
  },
  {
   "cell_type": "code",
   "execution_count": 15,
   "metadata": {
    "scrolled": true
   },
   "outputs": [
    {
     "data": {
      "text/html": [
       "<div>\n",
       "<style scoped>\n",
       "    .dataframe tbody tr th:only-of-type {\n",
       "        vertical-align: middle;\n",
       "    }\n",
       "\n",
       "    .dataframe tbody tr th {\n",
       "        vertical-align: top;\n",
       "    }\n",
       "\n",
       "    .dataframe thead th {\n",
       "        text-align: right;\n",
       "    }\n",
       "</style>\n",
       "<table border=\"1\" class=\"dataframe\">\n",
       "  <thead>\n",
       "    <tr style=\"text-align: right;\">\n",
       "      <th></th>\n",
       "      <th>Unnamed: 0</th>\n",
       "      <th>ID</th>\n",
       "      <th>Case Number</th>\n",
       "      <th>Date</th>\n",
       "      <th>Block</th>\n",
       "      <th>IUCR</th>\n",
       "      <th>Primary Type</th>\n",
       "      <th>Description</th>\n",
       "      <th>Location Description</th>\n",
       "      <th>Arrest</th>\n",
       "      <th>...</th>\n",
       "      <th>Ward</th>\n",
       "      <th>Community Area</th>\n",
       "      <th>FBI Code</th>\n",
       "      <th>X Coordinate</th>\n",
       "      <th>Y Coordinate</th>\n",
       "      <th>Updated On</th>\n",
       "      <th>Latitude</th>\n",
       "      <th>Longitude</th>\n",
       "      <th>Location</th>\n",
       "      <th>date_col</th>\n",
       "    </tr>\n",
       "    <tr>\n",
       "      <th>Year</th>\n",
       "      <th></th>\n",
       "      <th></th>\n",
       "      <th></th>\n",
       "      <th></th>\n",
       "      <th></th>\n",
       "      <th></th>\n",
       "      <th></th>\n",
       "      <th></th>\n",
       "      <th></th>\n",
       "      <th></th>\n",
       "      <th></th>\n",
       "      <th></th>\n",
       "      <th></th>\n",
       "      <th></th>\n",
       "      <th></th>\n",
       "      <th></th>\n",
       "      <th></th>\n",
       "      <th></th>\n",
       "      <th></th>\n",
       "      <th></th>\n",
       "      <th></th>\n",
       "    </tr>\n",
       "  </thead>\n",
       "  <tbody>\n",
       "    <tr>\n",
       "      <th>2012</th>\n",
       "      <td>335670</td>\n",
       "      <td>335670</td>\n",
       "      <td>335669</td>\n",
       "      <td>335670</td>\n",
       "      <td>335670</td>\n",
       "      <td>335670</td>\n",
       "      <td>335670</td>\n",
       "      <td>335670</td>\n",
       "      <td>335328</td>\n",
       "      <td>335670</td>\n",
       "      <td>...</td>\n",
       "      <td>335663</td>\n",
       "      <td>335644</td>\n",
       "      <td>335670</td>\n",
       "      <td>334753</td>\n",
       "      <td>334753</td>\n",
       "      <td>335670</td>\n",
       "      <td>334753</td>\n",
       "      <td>334753</td>\n",
       "      <td>334753</td>\n",
       "      <td>335670</td>\n",
       "    </tr>\n",
       "    <tr>\n",
       "      <th>2013</th>\n",
       "      <td>306703</td>\n",
       "      <td>306703</td>\n",
       "      <td>306703</td>\n",
       "      <td>306703</td>\n",
       "      <td>306703</td>\n",
       "      <td>306703</td>\n",
       "      <td>306703</td>\n",
       "      <td>306703</td>\n",
       "      <td>306637</td>\n",
       "      <td>306703</td>\n",
       "      <td>...</td>\n",
       "      <td>306700</td>\n",
       "      <td>306690</td>\n",
       "      <td>306703</td>\n",
       "      <td>304315</td>\n",
       "      <td>304315</td>\n",
       "      <td>306703</td>\n",
       "      <td>304315</td>\n",
       "      <td>304315</td>\n",
       "      <td>304315</td>\n",
       "      <td>306703</td>\n",
       "    </tr>\n",
       "    <tr>\n",
       "      <th>2014</th>\n",
       "      <td>274527</td>\n",
       "      <td>274527</td>\n",
       "      <td>274527</td>\n",
       "      <td>274527</td>\n",
       "      <td>274527</td>\n",
       "      <td>274527</td>\n",
       "      <td>274527</td>\n",
       "      <td>274527</td>\n",
       "      <td>274345</td>\n",
       "      <td>274527</td>\n",
       "      <td>...</td>\n",
       "      <td>274525</td>\n",
       "      <td>274526</td>\n",
       "      <td>274527</td>\n",
       "      <td>269465</td>\n",
       "      <td>269465</td>\n",
       "      <td>274527</td>\n",
       "      <td>269465</td>\n",
       "      <td>269465</td>\n",
       "      <td>269465</td>\n",
       "      <td>274527</td>\n",
       "    </tr>\n",
       "    <tr>\n",
       "      <th>2015</th>\n",
       "      <td>262995</td>\n",
       "      <td>262995</td>\n",
       "      <td>262995</td>\n",
       "      <td>262995</td>\n",
       "      <td>262995</td>\n",
       "      <td>262995</td>\n",
       "      <td>262995</td>\n",
       "      <td>262995</td>\n",
       "      <td>262738</td>\n",
       "      <td>262995</td>\n",
       "      <td>...</td>\n",
       "      <td>262993</td>\n",
       "      <td>262995</td>\n",
       "      <td>262995</td>\n",
       "      <td>259795</td>\n",
       "      <td>259795</td>\n",
       "      <td>262995</td>\n",
       "      <td>259795</td>\n",
       "      <td>259795</td>\n",
       "      <td>259795</td>\n",
       "      <td>262995</td>\n",
       "    </tr>\n",
       "    <tr>\n",
       "      <th>2016</th>\n",
       "      <td>265462</td>\n",
       "      <td>265462</td>\n",
       "      <td>265462</td>\n",
       "      <td>265462</td>\n",
       "      <td>265462</td>\n",
       "      <td>265462</td>\n",
       "      <td>265462</td>\n",
       "      <td>265462</td>\n",
       "      <td>264679</td>\n",
       "      <td>265462</td>\n",
       "      <td>...</td>\n",
       "      <td>265462</td>\n",
       "      <td>265462</td>\n",
       "      <td>265462</td>\n",
       "      <td>251273</td>\n",
       "      <td>251273</td>\n",
       "      <td>265462</td>\n",
       "      <td>251273</td>\n",
       "      <td>251273</td>\n",
       "      <td>251273</td>\n",
       "      <td>265462</td>\n",
       "    </tr>\n",
       "    <tr>\n",
       "      <th>2017</th>\n",
       "      <td>11357</td>\n",
       "      <td>11357</td>\n",
       "      <td>11357</td>\n",
       "      <td>11357</td>\n",
       "      <td>11357</td>\n",
       "      <td>11357</td>\n",
       "      <td>11357</td>\n",
       "      <td>11357</td>\n",
       "      <td>11329</td>\n",
       "      <td>11357</td>\n",
       "      <td>...</td>\n",
       "      <td>11357</td>\n",
       "      <td>11357</td>\n",
       "      <td>11357</td>\n",
       "      <td>30</td>\n",
       "      <td>30</td>\n",
       "      <td>11357</td>\n",
       "      <td>30</td>\n",
       "      <td>30</td>\n",
       "      <td>30</td>\n",
       "      <td>11357</td>\n",
       "    </tr>\n",
       "  </tbody>\n",
       "</table>\n",
       "<p>6 rows × 23 columns</p>\n",
       "</div>"
      ],
      "text/plain": [
       "      Unnamed: 0      ID  Case Number    Date   Block    IUCR  Primary Type  \\\n",
       "Year                                                                          \n",
       "2012      335670  335670       335669  335670  335670  335670        335670   \n",
       "2013      306703  306703       306703  306703  306703  306703        306703   \n",
       "2014      274527  274527       274527  274527  274527  274527        274527   \n",
       "2015      262995  262995       262995  262995  262995  262995        262995   \n",
       "2016      265462  265462       265462  265462  265462  265462        265462   \n",
       "2017       11357   11357        11357   11357   11357   11357         11357   \n",
       "\n",
       "      Description  Location Description  Arrest  ...    Ward  Community Area  \\\n",
       "Year                                             ...                           \n",
       "2012       335670                335328  335670  ...  335663          335644   \n",
       "2013       306703                306637  306703  ...  306700          306690   \n",
       "2014       274527                274345  274527  ...  274525          274526   \n",
       "2015       262995                262738  262995  ...  262993          262995   \n",
       "2016       265462                264679  265462  ...  265462          265462   \n",
       "2017        11357                 11329   11357  ...   11357           11357   \n",
       "\n",
       "      FBI Code  X Coordinate  Y Coordinate  Updated On  Latitude  Longitude  \\\n",
       "Year                                                                          \n",
       "2012    335670        334753        334753      335670    334753     334753   \n",
       "2013    306703        304315        304315      306703    304315     304315   \n",
       "2014    274527        269465        269465      274527    269465     269465   \n",
       "2015    262995        259795        259795      262995    259795     259795   \n",
       "2016    265462        251273        251273      265462    251273     251273   \n",
       "2017     11357            30            30       11357        30         30   \n",
       "\n",
       "      Location  date_col  \n",
       "Year                      \n",
       "2012    334753    335670  \n",
       "2013    304315    306703  \n",
       "2014    269465    274527  \n",
       "2015    259795    262995  \n",
       "2016    251273    265462  \n",
       "2017        30     11357  \n",
       "\n",
       "[6 rows x 23 columns]"
      ]
     },
     "execution_count": 15,
     "metadata": {},
     "output_type": "execute_result"
    }
   ],
   "source": [
    "df.groupby('Year').count()"
   ]
  },
  {
   "cell_type": "markdown",
   "metadata": {},
   "source": [
    "*We can see that crimes are reducing in each year.*\n",
    "*But no distinct reason found for dramiticall decrease of crime in year 2017*\n",
    "___"
   ]
  },
  {
   "cell_type": "markdown",
   "metadata": {},
   "source": [
    "## Top places where crime occur the most"
   ]
  },
  {
   "cell_type": "code",
   "execution_count": 16,
   "metadata": {},
   "outputs": [],
   "source": [
    "top_places = df['Location Description'].value_counts().head()"
   ]
  },
  {
   "cell_type": "code",
   "execution_count": 17,
   "metadata": {},
   "outputs": [
    {
     "data": {
      "text/plain": [
       "<matplotlib.axes._subplots.AxesSubplot at 0x5485518>"
      ]
     },
     "execution_count": 17,
     "metadata": {},
     "output_type": "execute_result"
    },
    {
     "data": {
      "image/png": "[encoded data removed]",
      "text/plain": [
       "<Figure size 432x288 with 1 Axes>"
      ]
     },
     "metadata": {
      "needs_background": "light"
     },
     "output_type": "display_data"
    }
   ],
   "source": [
    "sns.barplot(top_places.index, top_places.values)"
   ]
  },
  {
   "cell_type": "code",
   "execution_count": null,
   "metadata": {},
   "outputs": [],
   "source": []
  },
  {
   "cell_type": "markdown",
   "metadata": {},
   "source": [
    "## Analysing the time in which crime occur the most on top location."
   ]
  },
  {
   "cell_type": "code",
   "execution_count": 18,
   "metadata": {},
   "outputs": [],
   "source": [
    "df['Hours'] = df['date_col'].apply(lambda x:x.hour)"
   ]
  },
  {
   "cell_type": "code",
   "execution_count": 19,
   "metadata": {},
   "outputs": [
    {
     "data": {
      "text/plain": [
       "<matplotlib.axes._subplots.AxesSubplot at 0x54858d0>"
      ]
     },
     "execution_count": 19,
     "metadata": {},
     "output_type": "execute_result"
    },
    {
     "data": {
      "image/png": "[encoded data removed]",
      "text/plain": [
       "<Figure size 432x288 with 1 Axes>"
      ]
     },
     "metadata": {
      "needs_background": "light"
     },
     "output_type": "display_data"
    }
   ],
   "source": [
    "sns.countplot(x=df[df['Location Description'] == 'STREET']['Hours'], data =df , palette='viridis')"
   ]
  },
  {
   "cell_type": "code",
   "execution_count": 20,
   "metadata": {},
   "outputs": [
    {
     "data": {
      "text/plain": [
       "<matplotlib.axes._subplots.AxesSubplot at 0x1393a048>"
      ]
     },
     "execution_count": 20,
     "metadata": {},
     "output_type": "execute_result"
    },
    {
     "data": {
      "image/png": "[encoded data removed]",
      "text/plain": [
       "<Figure size 432x288 with 1 Axes>"
      ]
     },
     "metadata": {
      "needs_background": "light"
     },
     "output_type": "display_data"
    }
   ],
   "source": [
    "sns.countplot(x=df[df['Location Description'] == 'SIDEWALK']['Hours'], data =df , palette='viridis')"
   ]
  },
  {
   "cell_type": "code",
   "execution_count": 21,
   "metadata": {},
   "outputs": [
    {
     "data": {
      "text/plain": [
       "<matplotlib.axes._subplots.AxesSubplot at 0x13a679e8>"
      ]
     },
     "execution_count": 21,
     "metadata": {},
     "output_type": "execute_result"
    },
    {
     "data": {
      "image/png": "[encoded data removed]",
      "text/plain": [
       "<Figure size 432x288 with 1 Axes>"
      ]
     },
     "metadata": {
      "needs_background": "light"
     },
     "output_type": "display_data"
    }
   ],
   "source": [
    "sns.countplot(x=df[df['Location Description'] == 'RESIDENCE']['Hours'], data =df , palette='viridis')"
   ]
  },
  {
   "cell_type": "code",
   "execution_count": 22,
   "metadata": {},
   "outputs": [
    {
     "data": {
      "text/plain": [
       "<matplotlib.axes._subplots.AxesSubplot at 0x13b2a048>"
      ]
     },
     "execution_count": 22,
     "metadata": {},
     "output_type": "execute_result"
    },
    {
     "data": {
      "image/png": "[encoded data removed]",
      "text/plain": [
       "<Figure size 432x288 with 1 Axes>"
      ]
     },
     "metadata": {
      "needs_background": "light"
     },
     "output_type": "display_data"
    }
   ],
   "source": [
    "sns.countplot(x=df[df['Location Description'] == 'APARTMENT']['Hours'], data =df , palette='viridis')"
   ]
  },
  {
   "cell_type": "markdown",
   "metadata": {},
   "source": [
    "## Top 10 Primary types of Crime on 'STREET' and 'RESIDENCE' Location\n"
   ]
  },
  {
   "cell_type": "code",
   "execution_count": 23,
   "metadata": {},
   "outputs": [],
   "source": [
    "s = df[df['Location Description'] == 'STREET'].groupby('Primary Type')['Location Description'].count()"
   ]
  },
  {
   "cell_type": "code",
   "execution_count": 24,
   "metadata": {},
   "outputs": [
    {
     "data": {
      "text/plain": [
       "Primary Type\n",
       "THEFT                  79848\n",
       "CRIMINAL DAMAGE        55750\n",
       "MOTOR VEHICLE THEFT    47513\n",
       "NARCOTICS              38900\n",
       "BATTERY                35852\n",
       "ASSAULT                16198\n",
       "ROBBERY                14337\n",
       "OTHER OFFENSE          14117\n",
       "PROSTITUTION            5568\n",
       "WEAPONS VIOLATION       4894\n",
       "Name: Location Description, dtype: int64"
      ]
     },
     "execution_count": 24,
     "metadata": {},
     "output_type": "execute_result"
    }
   ],
   "source": [
    "s.sort_values(ascending=False).head(10)"
   ]
  },
  {
   "cell_type": "code",
   "execution_count": null,
   "metadata": {},
   "outputs": [],
   "source": []
  },
  {
   "cell_type": "code",
   "execution_count": 25,
   "metadata": {},
   "outputs": [],
   "source": [
    "r = df[df['Location Description'] == 'RESIDENCE'].groupby('Primary Type')['Location Description'].count()"
   ]
  },
  {
   "cell_type": "code",
   "execution_count": 26,
   "metadata": {},
   "outputs": [
    {
     "data": {
      "text/plain": [
       "Primary Type\n",
       "BATTERY                       50152\n",
       "OTHER OFFENSE                 34610\n",
       "THEFT                         31220\n",
       "CRIMINAL DAMAGE               28182\n",
       "BURGLARY                      28128\n",
       "DECEPTIVE PRACTICE            23731\n",
       "ASSAULT                       13962\n",
       "OFFENSE INVOLVING CHILDREN     5762\n",
       "NARCOTICS                      5011\n",
       "CRIMINAL TRESPASS              3962\n",
       "Name: Location Description, dtype: int64"
      ]
     },
     "execution_count": 26,
     "metadata": {},
     "output_type": "execute_result"
    }
   ],
   "source": [
    "r.sort_values(ascending=False).head(10)"
   ]
  },
  {
   "cell_type": "code",
   "execution_count": null,
   "metadata": {},
   "outputs": [],
   "source": []
  },
  {
   "cell_type": "code",
   "execution_count": null,
   "metadata": {},
   "outputs": [],
   "source": []
  },
  {
   "cell_type": "code",
   "execution_count": null,
   "metadata": {},
   "outputs": [],
   "source": []
  },
  {
   "cell_type": "markdown",
   "metadata": {},
   "source": [
    "## Months with the highest crime"
   ]
  },
  {
   "cell_type": "code",
   "execution_count": 27,
   "metadata": {},
   "outputs": [],
   "source": [
    "df['Months'] = df['date_col'].apply(lambda x:x.month)"
   ]
  },
  {
   "cell_type": "code",
   "execution_count": 28,
   "metadata": {},
   "outputs": [],
   "source": [
    "dmap = {1:'JAN',2:'FEB',3:'MAR',4:'APR',5:'MAY',6:'JUN',7:'JUL',8:'AUG',9:'SEP',10:'OCT',11:'NOV',12:'DEC'}"
   ]
  },
  {
   "cell_type": "code",
   "execution_count": 29,
   "metadata": {},
   "outputs": [],
   "source": [
    "df['Months'] = df['Months'].map(dmap)"
   ]
  },
  {
   "cell_type": "code",
   "execution_count": 30,
   "metadata": {},
   "outputs": [
    {
     "data": {
      "text/plain": [
       "JUL    135762\n",
       "AUG    133738\n",
       "JUN    130575\n",
       "MAY    129735\n",
       "SEP    124067\n",
       "JAN    123809\n",
       "OCT    123571\n",
       "MAR    119010\n",
       "APR    118064\n",
       "NOV    111834\n",
       "DEC    108476\n",
       "FEB     98073\n",
       "Name: Months, dtype: int64"
      ]
     },
     "execution_count": 30,
     "metadata": {},
     "output_type": "execute_result"
    }
   ],
   "source": [
    "df['Months'].value_counts()"
   ]
  },
  {
   "cell_type": "code",
   "execution_count": null,
   "metadata": {},
   "outputs": [],
   "source": []
  },
  {
   "cell_type": "markdown",
   "metadata": {},
   "source": [
    "## Top 5 Dangerous 'BLOCK', 'WARD', and 'COMMUNITY AREA'"
   ]
  },
  {
   "cell_type": "code",
   "execution_count": 35,
   "metadata": {},
   "outputs": [
    {
     "data": {
      "text/plain": [
       "001XX N STATE ST        3634\n",
       "0000X W TERMINAL ST     2746\n",
       "008XX N MICHIGAN AVE    2465\n",
       "076XX S CICERO AVE      2116\n",
       "0000X N STATE ST        1844\n",
       "Name: Block, dtype: int64"
      ]
     },
     "execution_count": 35,
     "metadata": {},
     "output_type": "execute_result"
    }
   ],
   "source": [
    "df['Block'].value_counts().head()"
   ]
  },
  {
   "cell_type": "code",
   "execution_count": 36,
   "metadata": {},
   "outputs": [
    {
     "data": {
      "text/plain": [
       "28.0    71667\n",
       "42.0    66836\n",
       "24.0    63730\n",
       "2.0     56919\n",
       "27.0    51640\n",
       "Name: Ward, dtype: int64"
      ]
     },
     "execution_count": 36,
     "metadata": {},
     "output_type": "execute_result"
    }
   ],
   "source": [
    "df['Ward'].value_counts().head()"
   ]
  },
  {
   "cell_type": "code",
   "execution_count": 37,
   "metadata": {},
   "outputs": [
    {
     "data": {
      "text/plain": [
       "25.0    94730\n",
       "8.0     50290\n",
       "43.0    48909\n",
       "23.0    47093\n",
       "29.0    46151\n",
       "Name: Community Area, dtype: int64"
      ]
     },
     "execution_count": 37,
     "metadata": {},
     "output_type": "execute_result"
    }
   ],
   "source": [
    "df['Community Area'].value_counts().head()"
   ]
  },
  {
   "cell_type": "code",
   "execution_count": null,
   "metadata": {},
   "outputs": [],
   "source": []
  },
  {
   "cell_type": "markdown",
   "metadata": {},
   "source": [
    "## Crimes happening during entire month"
   ]
  },
  {
   "cell_type": "code",
   "execution_count": 38,
   "metadata": {},
   "outputs": [],
   "source": [
    "df['Days'] = df['date_col'].apply(lambda x:x.day)"
   ]
  },
  {
   "cell_type": "code",
   "execution_count": 49,
   "metadata": {},
   "outputs": [
    {
     "data": {
      "text/plain": [
       "<matplotlib.axes._subplots.AxesSubplot at 0x386a0a58>"
      ]
     },
     "execution_count": 49,
     "metadata": {},
     "output_type": "execute_result"
    },
    {
     "data": {
      "image/png": "[encoded data removed]",
      "text/plain": [
       "<Figure size 432x288 with 1 Axes>"
      ]
     },
     "metadata": {
      "needs_background": "light"
     },
     "output_type": "display_data"
    }
   ],
   "source": [
    "sns.countplot(df['Days'], palette='viridis')"
   ]
  },
  {
   "cell_type": "code",
   "execution_count": null,
   "metadata": {},
   "outputs": [],
   "source": []
  },
  {
   "cell_type": "code",
   "execution_count": 52,
   "metadata": {},
   "outputs": [],
   "source": [
    "df['Week_days'] = df['date_col'].dt.dayofweek"
   ]
  },
  {
   "cell_type": "code",
   "execution_count": 56,
   "metadata": {},
   "outputs": [],
   "source": [
    "dmap = {0:'MON',1:'TUE',2:'WED',3:'THU',4:'FRI',5:'SAT',6:'SUN',}"
   ]
  },
  {
   "cell_type": "code",
   "execution_count": 59,
   "metadata": {},
   "outputs": [],
   "source": [
    "df['Week_days'] = df['Week_days'].map(dmap)"
   ]
  },
  {
   "cell_type": "code",
   "execution_count": 61,
   "metadata": {},
   "outputs": [
    {
     "data": {
      "text/plain": [
       "<matplotlib.axes._subplots.AxesSubplot at 0x3925c940>"
      ]
     },
     "execution_count": 61,
     "metadata": {},
     "output_type": "execute_result"
    },
    {
     "data": {
      "image/png": "[encoded data removed]",
      "text/plain": [
       "<Figure size 432x288 with 1 Axes>"
      ]
     },
     "metadata": {
      "needs_background": "light"
     },
     "output_type": "display_data"
    }
   ],
   "source": [
    "sns.countplot(df['Week_days'])"
   ]
  },
  {
   "cell_type": "code",
   "execution_count": null,
   "metadata": {},
   "outputs": [],
   "source": []
  },
  {
   "cell_type": "code",
   "execution_count": null,
   "metadata": {},
   "outputs": [],
   "source": []
  }
 ],
 "metadata": {
  "kernelspec": {
   "display_name": "Python 3",
   "language": "python",
   "name": "python3"
  },
  "language_info": {
   "codemirror_mode": {
    "name": "ipython",
    "version": 3
   },
   "file_extension": ".py",
   "mimetype": "text/x-python",
   "name": "python",
   "nbconvert_exporter": "python",
   "pygments_lexer": "ipython3",
   "version": "3.7.3"
  }
 },
 "nbformat": 4,
 "nbformat_minor": 4
}
