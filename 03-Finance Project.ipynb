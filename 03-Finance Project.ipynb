# Finance Data Project 

This project is focus on exploratory data analysis of stock prices of 6 companies.

____

**Source of the data: Yahoo**


## Imports

from pandas_datareader import data, wb
import pandas as pd
import numpy as np
import matplotlib as plt
import seaborn as sns
import datetime
%matplotlib inline

## Reading the Data

Reading the data directly from Yahoo finance using pandas for the following banks of the particular time period:
*  Bank of America
* CitiGroup
* Goldman Sachs
* JPMorgan Chase
* Morgan Stanley
* Wells Fargo




start = datetime.datetime(2006, 1, 1)
end = datetime.datetime(2016, 1, 1)

# Bank of America
BAC = data.DataReader("BAC", 'yahoo', start, end)

#CitiGroup
C = data.DataReader("C", 'yahoo', start, end)

#Goldman Sachs
GS = data.DataReader("GS", 'yahoo', start, end)

#JPMorgan Chase
JPM = data.DataReader("JPM", 'yahoo', start, end)

#Morgan Stanley
MS = data.DataReader("MS", 'yahoo', start, end)

#Wells Fargo
WFC = data.DataReader("WFC", 'yahoo', start, end)

**Creating a list of the ticker symbols (as strings) in alphabetical order.**

tickers = ['BAC', 'C', 'GS', 'JPM', 'MS', 'WFC']

**Concatenate the bank dataframes together to a single data frame called bank_stocks.**

bank_stocks = pd.concat([BAC,C,GS,JPM,MS,WFC], axis=1, keys=tickers)

**Defining the column names**

bank_stocks.columns.names = ['Bank Ticker','Stock Info']

**DataFrame head()**

bank_stocks.head()

# EDA

**The maximum Close price for each bank's stock throughout the time period**

bank_stocks.xs('Close', level='Stock Info', axis=1).max()

**Creating a new empty DataFrame called returns. This dataframe will contain the returns for each bank's stock.**


returns = pd.DataFrame()

**Calculating return value using percentage change method for 'Close' columns of each bank.**

for tick in tickers:
    returns[tick+' Return'] = bank_stocks[tick]['Close'].pct_change()
returns.head()

**Pairplot using seaborn of the returns dataframe.**

sns.pairplot(returns[1:])

**Using this returns DataFrame, Concluding out on what dates each bank stock had the best and worst single day returns.**

returns.idxmin()

returns.idxmax()

**Citi Group and Goldman Sach had same date for best performing whilst Bank of America, Goldman Sach, JPMorgan Chase,and Wells Fargo perfrom bad on same day**

 ___________

## Exploring the riskiest stock over the time and for year 2015
   * Citi Group is riskiest of all time.
   * In Year 2015, show very similar risk profiles Morgan Stanley and Bank of America

returns.std()

returns.loc['2015-01-01':'2015-12-31'].std()

**Distplot of the 2015 returns for Morgan Stanley**

sns.distplot(returns.loc['2015-01-01':'2015-12-31']['MS Return'], bins=100)

**Distplot of the 2008 returns for CitiGroup**

sns.distplot(returns.loc['2008-01-01':'2008-12-31']['C Return'], color='red', bins=100)

____
## Visualization Imports

sns.set_style('whitegrid')
%matplotlib inline

# Optional Plotly Method Imports
import plotly
import cufflinks as cf
cf.go_offline()

**line plot showing Close price for each bank for the entire index of time.**

bank_stocks.xs('Close', axis=1, level='Stock Info').plot(figsize=(12,4), label=tick)
plt.legend()

## Moving Averages

Analyzing the moving averages for the stocks in the year 2008. 

**Rolling 30 day average against the Close Price for Bank Of America's stock for the year 2008**

plt.figure(figsize=(12,6))
BAC['Close'].loc['2008-01-01':'2009-01-01'].rolling(window=30).mean().plot(label='30 Day Avg')
BAC['Close'].loc['2008-01-01':'2009-01-01'].plot(label='BAC CLOSE')
plt.legend()

**Heatmap of the correlation between the stocks Close Price.**

sns.heatmap(data = bank_stocks.xs('Close', level='Stock Info', axis=1).corr(), annot=True, cmap="YlGnBu",
           lw=1)

**Clustermap to cluster the correlations together.**

sns.clustermap(bank_stocks.xs(key='Close',axis=1,level='Stock Info').corr(),annot=True)

# Part 2 (Optional)

In this second part of the project we will rely on the cufflinks library to create some Technical Analysis plots. This part of the project is experimental due to its heavy reliance on the cuffinks project, so feel free to skip it if any functionality is broken in the future.

** Use .iplot(kind='candle) to create a candle plot of Bank of America's stock from Jan 1st 2015 to Jan 1st 2016.**

BAC[['High', 'Low','Open', 'Close']].loc['2015-01-01' : '2016-01-01'].iplot(kind='candle')

** Use .ta_plot(study='sma') to create a Simple Moving Averages plot of Morgan Stanley for the year 2015.**

MS[['High', 'Low', 'Open', 'Close']].loc['2015-01-01' : '2015-12-31'].ta_plot(study='sma')

**Use .ta_plot(study='boll') to create a Bollinger Band Plot for Bank of America for the year 2015.**

BAC['Close'].loc['2015-01-01':'2016-01-01'].ta_plot(study='boll')

**End Of the Project**
